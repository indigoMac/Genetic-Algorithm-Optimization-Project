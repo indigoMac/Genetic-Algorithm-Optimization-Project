{
  "cells": [
    {
      "cell_type": "markdown",
      "metadata": {
        "id": "view-in-github",
        "colab_type": "text"
      },
      "source": [
        "<a href=\"https://colab.research.google.com/github/indigoMac/Genetic-Algorithm-Optimization-Project/blob/main/Deep_Q_Learning_for_Lunar_Landing.ipynb\" target=\"_parent\"><img src=\"https://colab.research.google.com/assets/colab-badge.svg\" alt=\"Open In Colab\"/></a>"
      ]
    },
    {
      "cell_type": "markdown",
      "metadata": {
        "id": "LbZcI9ZXHl3a"
      },
      "source": [
        "# Deep Q-Learning for Lunar Landing"
      ]
    },
    {
      "cell_type": "markdown",
      "metadata": {
        "id": "E8yPRjteXgPb"
      },
      "source": [
        "## Part 0 - Installing the required packages and importing the libraries"
      ]
    },
    {
      "cell_type": "markdown",
      "metadata": {
        "id": "slEm5teGWjWU"
      },
      "source": [
        "### Installing Gymnasium"
      ]
    },
    {
      "cell_type": "code",
      "execution_count": null,
      "metadata": {
        "id": "dbnq3XpoKa_7",
        "colab": {
          "base_uri": "https://localhost:8080/"
        },
        "outputId": "f3d20ec4-8e69-49c2-c403-318692cb0aea"
      },
      "outputs": [
        {
          "output_type": "stream",
          "name": "stdout",
          "text": [
            "Collecting gymnasium\n",
            "  Downloading gymnasium-0.29.1-py3-none-any.whl (953 kB)\n",
            "\u001b[?25l     \u001b[90m━━━━━━━━━━━━━━━━━━━━━━━━━━━━━━━━━━━━━━━━\u001b[0m \u001b[32m0.0/953.9 kB\u001b[0m \u001b[31m?\u001b[0m eta \u001b[36m-:--:--\u001b[0m\r\u001b[2K     \u001b[91m━━━━━━\u001b[0m\u001b[91m╸\u001b[0m\u001b[90m━━━━━━━━━━━━━━━━━━━━━━━━━━━━━━━━━\u001b[0m \u001b[32m163.8/953.9 kB\u001b[0m \u001b[31m4.7 MB/s\u001b[0m eta \u001b[36m0:00:01\u001b[0m\r\u001b[2K     \u001b[91m━━━━━━━━━━━━━━━━━━━━━━━━\u001b[0m\u001b[90m╺\u001b[0m\u001b[90m━━━━━━━━━━━━━━━\u001b[0m \u001b[32m583.7/953.9 kB\u001b[0m \u001b[31m8.3 MB/s\u001b[0m eta \u001b[36m0:00:01\u001b[0m\r\u001b[2K     \u001b[91m━━━━━━━━━━━━━━━━━━━━━━━━━━━━━━━━━━━━━━━\u001b[0m\u001b[91m╸\u001b[0m \u001b[32m952.3/953.9 kB\u001b[0m \u001b[31m9.8 MB/s\u001b[0m eta \u001b[36m0:00:01\u001b[0m\r\u001b[2K     \u001b[90m━━━━━━━━━━━━━━━━━━━━━━━━━━━━━━━━━━━━━━━━\u001b[0m \u001b[32m953.9/953.9 kB\u001b[0m \u001b[31m8.6 MB/s\u001b[0m eta \u001b[36m0:00:00\u001b[0m\n",
            "\u001b[?25hRequirement already satisfied: numpy>=1.21.0 in /usr/local/lib/python3.10/dist-packages (from gymnasium) (1.25.2)\n",
            "Requirement already satisfied: cloudpickle>=1.2.0 in /usr/local/lib/python3.10/dist-packages (from gymnasium) (2.2.1)\n",
            "Requirement already satisfied: typing-extensions>=4.3.0 in /usr/local/lib/python3.10/dist-packages (from gymnasium) (4.11.0)\n",
            "Collecting farama-notifications>=0.0.1 (from gymnasium)\n",
            "  Downloading Farama_Notifications-0.0.4-py3-none-any.whl (2.5 kB)\n",
            "Installing collected packages: farama-notifications, gymnasium\n",
            "Successfully installed farama-notifications-0.0.4 gymnasium-0.29.1\n",
            "Requirement already satisfied: gymnasium[accept-rom-license,atari] in /usr/local/lib/python3.10/dist-packages (0.29.1)\n",
            "Requirement already satisfied: numpy>=1.21.0 in /usr/local/lib/python3.10/dist-packages (from gymnasium[accept-rom-license,atari]) (1.25.2)\n",
            "Requirement already satisfied: cloudpickle>=1.2.0 in /usr/local/lib/python3.10/dist-packages (from gymnasium[accept-rom-license,atari]) (2.2.1)\n",
            "Requirement already satisfied: typing-extensions>=4.3.0 in /usr/local/lib/python3.10/dist-packages (from gymnasium[accept-rom-license,atari]) (4.11.0)\n",
            "Requirement already satisfied: farama-notifications>=0.0.1 in /usr/local/lib/python3.10/dist-packages (from gymnasium[accept-rom-license,atari]) (0.0.4)\n",
            "Collecting autorom[accept-rom-license]~=0.4.2 (from gymnasium[accept-rom-license,atari])\n",
            "  Downloading AutoROM-0.4.2-py3-none-any.whl (16 kB)\n",
            "Collecting shimmy[atari]<1.0,>=0.1.0 (from gymnasium[accept-rom-license,atari])\n",
            "  Downloading Shimmy-0.2.1-py3-none-any.whl (25 kB)\n",
            "Requirement already satisfied: click in /usr/local/lib/python3.10/dist-packages (from autorom[accept-rom-license]~=0.4.2->gymnasium[accept-rom-license,atari]) (8.1.7)\n",
            "Requirement already satisfied: requests in /usr/local/lib/python3.10/dist-packages (from autorom[accept-rom-license]~=0.4.2->gymnasium[accept-rom-license,atari]) (2.31.0)\n",
            "Requirement already satisfied: tqdm in /usr/local/lib/python3.10/dist-packages (from autorom[accept-rom-license]~=0.4.2->gymnasium[accept-rom-license,atari]) (4.66.2)\n",
            "Collecting AutoROM.accept-rom-license (from autorom[accept-rom-license]~=0.4.2->gymnasium[accept-rom-license,atari])\n",
            "  Downloading AutoROM.accept-rom-license-0.6.1.tar.gz (434 kB)\n",
            "\u001b[2K     \u001b[90m━━━━━━━━━━━━━━━━━━━━━━━━━━━━━━━━━━━━━━━━\u001b[0m \u001b[32m434.7/434.7 kB\u001b[0m \u001b[31m5.5 MB/s\u001b[0m eta \u001b[36m0:00:00\u001b[0m\n",
            "\u001b[?25h  Installing build dependencies ... \u001b[?25l\u001b[?25hdone\n",
            "  Getting requirements to build wheel ... \u001b[?25l\u001b[?25hdone\n",
            "  Preparing metadata (pyproject.toml) ... \u001b[?25l\u001b[?25hdone\n",
            "Collecting ale-py~=0.8.1 (from shimmy[atari]<1.0,>=0.1.0->gymnasium[accept-rom-license,atari])\n",
            "  Downloading ale_py-0.8.1-cp310-cp310-manylinux_2_17_x86_64.manylinux2014_x86_64.whl (1.7 MB)\n",
            "\u001b[2K     \u001b[90m━━━━━━━━━━━━━━━━━━━━━━━━━━━━━━━━━━━━━━━━\u001b[0m \u001b[32m1.7/1.7 MB\u001b[0m \u001b[31m11.6 MB/s\u001b[0m eta \u001b[36m0:00:00\u001b[0m\n",
            "\u001b[?25hRequirement already satisfied: importlib-resources in /usr/local/lib/python3.10/dist-packages (from ale-py~=0.8.1->shimmy[atari]<1.0,>=0.1.0->gymnasium[accept-rom-license,atari]) (6.4.0)\n",
            "Requirement already satisfied: charset-normalizer<4,>=2 in /usr/local/lib/python3.10/dist-packages (from requests->autorom[accept-rom-license]~=0.4.2->gymnasium[accept-rom-license,atari]) (3.3.2)\n",
            "Requirement already satisfied: idna<4,>=2.5 in /usr/local/lib/python3.10/dist-packages (from requests->autorom[accept-rom-license]~=0.4.2->gymnasium[accept-rom-license,atari]) (3.6)\n",
            "Requirement already satisfied: urllib3<3,>=1.21.1 in /usr/local/lib/python3.10/dist-packages (from requests->autorom[accept-rom-license]~=0.4.2->gymnasium[accept-rom-license,atari]) (2.0.7)\n",
            "Requirement already satisfied: certifi>=2017.4.17 in /usr/local/lib/python3.10/dist-packages (from requests->autorom[accept-rom-license]~=0.4.2->gymnasium[accept-rom-license,atari]) (2024.2.2)\n",
            "Building wheels for collected packages: AutoROM.accept-rom-license\n",
            "  Building wheel for AutoROM.accept-rom-license (pyproject.toml) ... \u001b[?25l\u001b[?25hdone\n",
            "  Created wheel for AutoROM.accept-rom-license: filename=AutoROM.accept_rom_license-0.6.1-py3-none-any.whl size=446659 sha256=858e2338488a131dad0fbd959a7e204580740ec1c5e12730629e17cea8448009\n",
            "  Stored in directory: /root/.cache/pip/wheels/6b/1b/ef/a43ff1a2f1736d5711faa1ba4c1f61be1131b8899e6a057811\n",
            "Successfully built AutoROM.accept-rom-license\n",
            "Installing collected packages: ale-py, shimmy, AutoROM.accept-rom-license, autorom\n",
            "Successfully installed AutoROM.accept-rom-license-0.6.1 ale-py-0.8.1 autorom-0.4.2 shimmy-0.2.1\n",
            "Reading package lists... Done\n",
            "Building dependency tree... Done\n",
            "Reading state information... Done\n",
            "The following additional packages will be installed:\n",
            "  swig4.0\n",
            "Suggested packages:\n",
            "  swig-doc swig-examples swig4.0-examples swig4.0-doc\n",
            "The following NEW packages will be installed:\n",
            "  swig swig4.0\n",
            "0 upgraded, 2 newly installed, 0 to remove and 45 not upgraded.\n",
            "Need to get 1,116 kB of archives.\n",
            "After this operation, 5,542 kB of additional disk space will be used.\n",
            "Get:1 http://archive.ubuntu.com/ubuntu jammy/universe amd64 swig4.0 amd64 4.0.2-1ubuntu1 [1,110 kB]\n",
            "Get:2 http://archive.ubuntu.com/ubuntu jammy/universe amd64 swig all 4.0.2-1ubuntu1 [5,632 B]\n",
            "Fetched 1,116 kB in 1s (831 kB/s)\n",
            "Selecting previously unselected package swig4.0.\n",
            "(Reading database ... 121752 files and directories currently installed.)\n",
            "Preparing to unpack .../swig4.0_4.0.2-1ubuntu1_amd64.deb ...\n",
            "Unpacking swig4.0 (4.0.2-1ubuntu1) ...\n",
            "Selecting previously unselected package swig.\n",
            "Preparing to unpack .../swig_4.0.2-1ubuntu1_all.deb ...\n",
            "Unpacking swig (4.0.2-1ubuntu1) ...\n",
            "Setting up swig4.0 (4.0.2-1ubuntu1) ...\n",
            "Setting up swig (4.0.2-1ubuntu1) ...\n",
            "Processing triggers for man-db (2.10.2-1) ...\n",
            "Requirement already satisfied: gymnasium[box2d] in /usr/local/lib/python3.10/dist-packages (0.29.1)\n",
            "Requirement already satisfied: numpy>=1.21.0 in /usr/local/lib/python3.10/dist-packages (from gymnasium[box2d]) (1.25.2)\n",
            "Requirement already satisfied: cloudpickle>=1.2.0 in /usr/local/lib/python3.10/dist-packages (from gymnasium[box2d]) (2.2.1)\n",
            "Requirement already satisfied: typing-extensions>=4.3.0 in /usr/local/lib/python3.10/dist-packages (from gymnasium[box2d]) (4.11.0)\n",
            "Requirement already satisfied: farama-notifications>=0.0.1 in /usr/local/lib/python3.10/dist-packages (from gymnasium[box2d]) (0.0.4)\n",
            "Collecting box2d-py==2.3.5 (from gymnasium[box2d])\n",
            "  Downloading box2d-py-2.3.5.tar.gz (374 kB)\n",
            "\u001b[2K     \u001b[90m━━━━━━━━━━━━━━━━━━━━━━━━━━━━━━━━━━━━━━━━\u001b[0m \u001b[32m374.4/374.4 kB\u001b[0m \u001b[31m6.2 MB/s\u001b[0m eta \u001b[36m0:00:00\u001b[0m\n",
            "\u001b[?25h  Preparing metadata (setup.py) ... \u001b[?25l\u001b[?25hdone\n",
            "Requirement already satisfied: pygame>=2.1.3 in /usr/local/lib/python3.10/dist-packages (from gymnasium[box2d]) (2.5.2)\n",
            "Collecting swig==4.* (from gymnasium[box2d])\n",
            "  Downloading swig-4.2.1-py2.py3-none-manylinux_2_5_x86_64.manylinux1_x86_64.whl (1.9 MB)\n",
            "\u001b[2K     \u001b[90m━━━━━━━━━━━━━━━━━━━━━━━━━━━━━━━━━━━━━━━━\u001b[0m \u001b[32m1.9/1.9 MB\u001b[0m \u001b[31m14.2 MB/s\u001b[0m eta \u001b[36m0:00:00\u001b[0m\n",
            "\u001b[?25hBuilding wheels for collected packages: box2d-py\n",
            "  Building wheel for box2d-py (setup.py) ... \u001b[?25l\u001b[?25hdone\n",
            "  Created wheel for box2d-py: filename=box2d_py-2.3.5-cp310-cp310-linux_x86_64.whl size=2349146 sha256=d12cc11df8328ac8632b24c06b9606946195cbe26687ad257c7a31bb7decfd73\n",
            "  Stored in directory: /root/.cache/pip/wheels/db/8f/6a/eaaadf056fba10a98d986f6dce954e6201ba3126926fc5ad9e\n",
            "Successfully built box2d-py\n",
            "Installing collected packages: swig, box2d-py\n",
            "Successfully installed box2d-py-2.3.5 swig-4.2.1\n"
          ]
        }
      ],
      "source": [
        "!pip install gymnasium\n",
        "!pip install \"gymnasium[atari, accept-rom-license]\"\n",
        "!apt-get install -y swig\n",
        "!pip install gymnasium[box2d]"
      ]
    },
    {
      "cell_type": "markdown",
      "metadata": {
        "id": "brqiMN3UW9T9"
      },
      "source": [
        "### Importing the libraries"
      ]
    },
    {
      "cell_type": "code",
      "execution_count": null,
      "metadata": {
        "id": "mZaKXP_aMl9O"
      },
      "outputs": [],
      "source": [
        "import os\n",
        "import random\n",
        "import numpy as np\n",
        "import torch\n",
        "import torch.nn as nn\n",
        "import torch.optim as optim\n",
        "import torch.nn.functional as F\n",
        "import torch.autograd as autograd\n",
        "from torch.autograd import Variable\n",
        "from collections import deque, namedtuple"
      ]
    },
    {
      "cell_type": "markdown",
      "metadata": {
        "id": "EzlDKXvkXzGI"
      },
      "source": [
        "## Part 1 - Building the AI"
      ]
    },
    {
      "cell_type": "markdown",
      "metadata": {
        "id": "UtG6Zc83YYy3"
      },
      "source": [
        "### Creating the architecture of the Neural Network"
      ]
    },
    {
      "cell_type": "code",
      "source": [
        "class Network(nn.Module):\n",
        "\n",
        "  def __init__(self, state_size, action_size, seed = 42):\n",
        "    super(Network, self).__init__()\n",
        "    self.seed = torch.manual_seed(seed)\n",
        "    self.fc1 = nn.Linear(state_size, 64)\n",
        "    self.fc2 = nn.Linear(64, 64)\n",
        "    self.fc3 = nn.Linear(64, action_size)\n",
        "\n",
        "  def forward(self, state):\n",
        "    x = self.fc1(state)\n",
        "    x = F.relu(x)\n",
        "    x = self.fc2(x)\n",
        "    x = F.relu(x)\n",
        "    return self.fc3(x)"
      ],
      "metadata": {
        "id": "5LC9_yavP1B_"
      },
      "execution_count": null,
      "outputs": []
    },
    {
      "cell_type": "markdown",
      "metadata": {
        "id": "UxVrBnFWZKb1"
      },
      "source": [
        "## Part 2 - Training the AI"
      ]
    },
    {
      "cell_type": "markdown",
      "metadata": {
        "id": "T364fz9qZb2j"
      },
      "source": [
        "### Setting up the environment"
      ]
    },
    {
      "cell_type": "code",
      "source": [
        "import gymnasium as gym\n",
        "env = gym.make('LunarLander-v2')\n",
        "state_shape = env.observation_space.shape\n",
        "state_size = env.observation_space.shape[0]\n",
        "number_actions = env.action_space.n\n",
        "print('State shape: ', state_shape)\n",
        "print('State size: ', state_size)\n",
        "print('Number of actions: ', number_actions)"
      ],
      "metadata": {
        "colab": {
          "base_uri": "https://localhost:8080/"
        },
        "id": "hZvPWTsVSbgM",
        "outputId": "79a290f7-b037-48b1-ca3a-0256b60983c2"
      },
      "execution_count": null,
      "outputs": [
        {
          "output_type": "stream",
          "name": "stdout",
          "text": [
            "State shape:  (8,)\n",
            "State size:  8\n",
            "Number of actions:  4\n"
          ]
        }
      ]
    },
    {
      "cell_type": "markdown",
      "metadata": {
        "id": "c_dZmOIvZgj-"
      },
      "source": [
        "### Initializing the hyperparameters"
      ]
    },
    {
      "cell_type": "code",
      "source": [
        "learning_rate = 5e-4\n",
        "minibatch_size = 100\n",
        "discount_factor = 0.99\n",
        "replay_buffer_size = int(1e5)\n",
        "interpolation_parameter = 1e-3"
      ],
      "metadata": {
        "id": "s8Vg5hgOTbnr"
      },
      "execution_count": null,
      "outputs": []
    },
    {
      "cell_type": "markdown",
      "metadata": {
        "id": "8hD_Vs-bYnip"
      },
      "source": [
        "### Implementing Experience Replay"
      ]
    },
    {
      "cell_type": "code",
      "source": [
        "class ReplayMemory(object):\n",
        "\n",
        "  def __init__(self, capacity):\n",
        "    self.device = torch.device(\"cuda:0\" if torch.cuda.is_available() else \"cpu\")\n",
        "    self.capacity = capacity\n",
        "    self.memory = []\n",
        "\n",
        "  def push(self, event):\n",
        "    self.memory.append(event)\n",
        "    if len(self.memory) > self.capacity:\n",
        "      del self.memory[0]\n",
        "\n",
        "  def sample(self, batch_size):\n",
        "    experiences = random.sample(self.memory, k = batch_size)\n",
        "    states = torch.from_numpy(np.vstack([e[0] for e in experiences if e is not None])).float().to(self.device)\n",
        "    actions = torch.from_numpy(np.vstack([e[1] for e in experiences if e is not None])).long().to(self.device)\n",
        "    rewards = torch.from_numpy(np.vstack([e[2] for e in experiences if e is not None])).float().to(self.device)\n",
        "    next_states = torch.from_numpy(np.vstack([e[3] for e in experiences if e is not None])).float().to(self.device)\n",
        "    dones = torch.from_numpy(np.vstack([e[4] for e in experiences if e is not None]).astype(np.uint8)).float().to(self.device)\n",
        "    return states, next_states, actions, rewards, dones"
      ],
      "metadata": {
        "id": "ESeB2WkTjv96"
      },
      "execution_count": null,
      "outputs": []
    },
    {
      "cell_type": "markdown",
      "metadata": {
        "id": "JmEkbFbUY6Jt"
      },
      "source": [
        "### Implementing the DQN class"
      ]
    },
    {
      "cell_type": "code",
      "source": [
        "class Agent():\n",
        "\n",
        "  def __init__(self, state_size, action_size):\n",
        "    self.device = torch.device(\"cuda:0\" if torch.cuda.is_available() else \"cpu\")\n",
        "    self.state_size = state_size\n",
        "    self.action_size = action_size\n",
        "    self.local_qnetwork = Network(state_size, action_size).to(self.device)\n",
        "    self.target_qnetwork = Network(state_size, action_size).to(self.device)\n",
        "    self.optimizer = optim.Adam(self.local_qnetwork.parameters(), lr = learning_rate)\n",
        "    self.memory = ReplayMemory(replay_buffer_size)\n",
        "    self.t_step = 0\n",
        "\n",
        "  def step(self, state, action, reward, next_state, done):\n",
        "    self.memory.push((state, action, reward, next_state, done))\n",
        "    self.t_step = (self.t_step + 1) % 4\n",
        "    if self.t_step == 0:\n",
        "      if len(self.memory.memory) > minibatch_size:\n",
        "        experiences = self.memory.sample(100)\n",
        "        self.learn(experiences, discount_factor)\n",
        "\n",
        "  def act(self, state, epsilon = 0.):\n",
        "    state = torch.from_numpy(state).float().unsqueeze(0).to(self.device)\n",
        "    self.local_qnetwork.eval()\n",
        "    with torch.no_grad():\n",
        "      action_values = self.local_qnetwork(state)\n",
        "    self.local_qnetwork.train()\n",
        "    if random.random() > epsilon:\n",
        "      return np.argmax(action_values.cpu().data.numpy())\n",
        "    else:\n",
        "      return random.choice(np.arange(self.action_size))\n",
        "\n",
        "  def learn(self, experiences, discount_factor):\n",
        "    states, next_states, actions, rewards, dones = experiences\n",
        "    next_q_targets = self.target_qnetwork(next_states).detach().max(1)[0].unsqueeze(1)\n",
        "    q_targets = rewards + discount_factor * next_q_targets * (1 - dones)\n",
        "    q_expected = self.local_qnetwork(states).gather(1, actions)\n",
        "    loss = F.mse_loss(q_expected, q_targets)\n",
        "    self.optimizer.zero_grad()\n",
        "    loss.backward()\n",
        "    self.optimizer.step()\n",
        "    self.soft_update(self.local_qnetwork, self.target_qnetwork, interpolation_parameter)\n",
        "\n",
        "  def soft_update(self, local_model, target_model, interpolation_parameter):\n",
        "    for target_param, local_param in zip(target_model.parameters(), local_model.parameters()):\n",
        "      target_param.data.copy_(interpolation_parameter * local_param.data + (1.0 - interpolation_parameter) * target_param.data)"
      ],
      "metadata": {
        "id": "6sj63JJ-tOcI"
      },
      "execution_count": null,
      "outputs": []
    },
    {
      "cell_type": "markdown",
      "metadata": {
        "id": "o1tZElccZmf6"
      },
      "source": [
        "### Initializing the DQN agent"
      ]
    },
    {
      "cell_type": "code",
      "source": [
        "agent = Agent(state_size, number_actions)"
      ],
      "metadata": {
        "id": "UwzttV9c42y-"
      },
      "execution_count": null,
      "outputs": []
    },
    {
      "cell_type": "markdown",
      "metadata": {
        "id": "E8v0PtUfaVQp"
      },
      "source": [
        "### Training the DQN agent"
      ]
    },
    {
      "cell_type": "code",
      "source": [
        "number_episodes = 2000\n",
        "maximum_number_timesteps_per_episode = 1000\n",
        "epsilon_starting_value  = 1.0\n",
        "epsilon_ending_value  = 0.01\n",
        "epsilon_decay_value  = 0.995\n",
        "epsilon = epsilon_starting_value\n",
        "scores_on_100_episodes = deque(maxlen = 100)\n",
        "\n",
        "for episode in range(1, number_episodes + 1):\n",
        "  state, _ = env.reset()\n",
        "  score = 0\n",
        "  for t in range(maximum_number_timesteps_per_episode):\n",
        "    action = agent.act(state, epsilon)\n",
        "    next_state, reward, done, _, _ = env.step(action)\n",
        "    agent.step(state, action, reward, next_state, done)\n",
        "    state = next_state\n",
        "    score += reward\n",
        "    if done:\n",
        "      break\n",
        "  scores_on_100_episodes.append(score)\n",
        "  epsilon = max(epsilon_ending_value, epsilon_decay_value * epsilon)\n",
        "  print('\\rEpisode {}\\tAverage Score: {:.2f}'.format(episode, np.mean(scores_on_100_episodes)), end = \"\")\n",
        "  if episode % 100 == 0:\n",
        "    print('\\rEpisode {}\\tAverage Score: {:.2f}'.format(episode, np.mean(scores_on_100_episodes)))\n",
        "  if np.mean(scores_on_100_episodes) >= 200.0:\n",
        "    print('\\nEnvironment solved in {:d} episodes!\\tAverage Score: {:.2f}'.format(episode, np.mean(scores_on_100_episodes)))\n",
        "    torch.save(agent.local_qnetwork.state_dict(), 'checkpoint.pth')\n",
        "    break"
      ],
      "metadata": {
        "colab": {
          "base_uri": "https://localhost:8080/"
        },
        "id": "_VRlWau859gZ",
        "outputId": "f832c515-2d55-4b26-ccb2-633ab2725bb2"
      },
      "execution_count": null,
      "outputs": [
        {
          "output_type": "stream",
          "name": "stdout",
          "text": [
            "Episode 100\tAverage Score: -173.98\n",
            "Episode 200\tAverage Score: -92.38\n",
            "Episode 300\tAverage Score: -5.47\n",
            "Episode 400\tAverage Score: 45.87\n",
            "Episode 500\tAverage Score: 101.45\n",
            "Episode 600\tAverage Score: 176.32\n",
            "Episode 700\tAverage Score: 179.25\n",
            "Episode 774\tAverage Score: 200.29\n",
            "Environment solved in 674 episodes!\tAverage Score: 200.29\n"
          ]
        }
      ]
    },
    {
      "cell_type": "markdown",
      "metadata": {
        "id": "O8CNwdOTcCoP"
      },
      "source": [
        "## Part 3 - Visualizing the results"
      ]
    },
    {
      "cell_type": "code",
      "execution_count": null,
      "metadata": {
        "id": "cb9nVvU2Okhk",
        "colab": {
          "base_uri": "https://localhost:8080/",
          "height": 494
        },
        "outputId": "73af186c-c51a-4115-ad10-07f23f4cd4ea"
      },
      "outputs": [
        {
          "output_type": "stream",
          "name": "stderr",
          "text": [
            "WARNING:imageio_ffmpeg:IMAGEIO FFMPEG_WRITER WARNING: input image is not divisible by macro_block_size=16, resizing from (600, 400) to (608, 400) to ensure video compatibility with most codecs and players. To prevent resizing, make your input image divisible by the macro_block_size or set the macro_block_size to 1 (risking incompatibility).\n",
            "/usr/lib/python3.10/subprocess.py:1796: RuntimeWarning: os.fork() was called. os.fork() is incompatible with multithreaded code, and JAX is multithreaded, so this will likely lead to a deadlock.\n",
            "  self.pid = _posixsubprocess.fork_exec(\n"
          ]
        },
        {
          "output_type": "display_data",
          "data": {
            "text/plain": [
              "<IPython.core.display.HTML object>"
            ],
            "text/html": [
              "<video alt=\"test\" autoplay\n",
              "                loop controls style=\"height: 400px;\">\n",
              "                <source src=\"data:video/mp4;base64,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\" type=\"video/mp4\" />\n",
              "             </video>"
            ]
          },
          "metadata": {}
        }
      ],
      "source": [
        "import glob\n",
        "import io\n",
        "import base64\n",
        "import imageio\n",
        "from IPython.display import HTML, display\n",
        "from gym.wrappers.monitoring.video_recorder import VideoRecorder\n",
        "\n",
        "def show_video_of_model(agent, env_name):\n",
        "    env = gym.make(env_name, render_mode='rgb_array')\n",
        "    state, _ = env.reset()\n",
        "    done = False\n",
        "    frames = []\n",
        "    while not done:\n",
        "        frame = env.render()\n",
        "        frames.append(frame)\n",
        "        action = agent.act(state)\n",
        "        state, reward, done, _, _ = env.step(action.item())\n",
        "    env.close()\n",
        "    imageio.mimsave('video.mp4', frames, fps=30)\n",
        "\n",
        "show_video_of_model(agent, 'LunarLander-v2')\n",
        "\n",
        "def show_video():\n",
        "    mp4list = glob.glob('*.mp4')\n",
        "    if len(mp4list) > 0:\n",
        "        mp4 = mp4list[0]\n",
        "        video = io.open(mp4, 'r+b').read()\n",
        "        encoded = base64.b64encode(video)\n",
        "        display(HTML(data='''<video alt=\"test\" autoplay\n",
        "                loop controls style=\"height: 400px;\">\n",
        "                <source src=\"data:video/mp4;base64,{0}\" type=\"video/mp4\" />\n",
        "             </video>'''.format(encoded.decode('ascii'))))\n",
        "    else:\n",
        "        print(\"Could not find video\")\n",
        "\n",
        "show_video()"
      ]
    }
  ],
  "metadata": {
    "colab": {
      "provenance": [],
      "include_colab_link": true
    },
    "kernelspec": {
      "display_name": "Python 3",
      "name": "python3"
    },
    "language_info": {
      "name": "python"
    }
  },
  "nbformat": 4,
  "nbformat_minor": 0
}